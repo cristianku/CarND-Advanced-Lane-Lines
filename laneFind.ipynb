{
 "cells": [
  {
   "cell_type": "code",
   "execution_count": null,
   "metadata": {},
   "outputs": [],
   "source": [
    "import numpy as np\n",
    "import cv2\n",
    "import matplotlib.pyplot as plt\n",
    "import matplotlib.image as mpimg\n",
    "\n",
    "# prepare object points\n",
    "nx = 9# enter the number of inside corners in x\n",
    "ny = 6# enter the number of inside corners in y\n",
    "\n",
    "objp  = np.zeros((6*9,3), np.float32)\n",
    "objp[:,:2] = np.mgrid[0:9, 0:6].T.reshape(-1,2)"
   ]
  },
  {
   "cell_type": "code",
   "execution_count": null,
   "metadata": {},
   "outputs": [],
   "source": [
    "objp.shape"
   ]
  },
  {
   "cell_type": "code",
   "execution_count": null,
   "metadata": {
    "scrolled": false
   },
   "outputs": [],
   "source": [
    "import matplotlib.pyplot as plt\n",
    "import glob\n",
    "import cv2\n",
    "import pickle\n",
    "\n",
    "\n",
    "objpoints =[]\n",
    "imgpoints =[]\n",
    "print ( \" .. starting  \")\n",
    "\n",
    "plt.axis('off')\n",
    "i = 0\n",
    "for fname in glob.glob(\"./camera_cal/*\"):\n",
    "#     print (name)\\\n",
    "    img = cv2.imread(fname)\n",
    "    \n",
    "    # Convert to grayscale\n",
    "    gray = cv2.cvtColor(img, cv2.COLOR_BGR2GRAY)\n",
    "\n",
    "    # Find the chessboard corners\n",
    "    ret, corners = cv2.findChessboardCorners(gray, (nx, ny), None)\n",
    "\n",
    "    # If found, draw corners\n",
    "    if ret == True:\n",
    "        # Draw and display the corners\n",
    "        cv2.drawChessboardCorners(img, (nx, ny), corners, ret)\n",
    "        objpoints.append(objp)\n",
    "        imgpoints.append(corners )\n",
    "\n",
    "\n",
    "    i += 1\n",
    "    plt.axis('off')\n",
    "#     plt.imshow(img)\n",
    "#     plt.show()\n",
    "\n",
    "ret, mtx, dist, rvecs, tvecs = cv2.calibrateCamera(objpoints, imgpoints, gray.shape[::-1], None, None)\n",
    "\n",
    "\n",
    "# Save the camera calibration result for later use (we won't worry about rvecs / tvecs)\n",
    "dist_pickle = {}\n",
    "dist_pickle[\"mtx\"] = mtx\n",
    "dist_pickle[\"dist\"] = dist\n",
    "pickle.dump( dist_pickle, open( \"wide_dist_pickle.p\", \"wb\" ) )    \n",
    "print ( \" .. completed .. saved into wide_dist_pickle.p  \")"
   ]
  },
  {
   "cell_type": "code",
   "execution_count": null,
   "metadata": {},
   "outputs": [],
   "source": []
  },
  {
   "cell_type": "markdown",
   "metadata": {},
   "source": [
    "## Working on test image"
   ]
  },
  {
   "cell_type": "code",
   "execution_count": null,
   "metadata": {},
   "outputs": [],
   "source": [
    "import numpy as np\n",
    "import cv2\n",
    "import matplotlib.pyplot as plt\n",
    "import matplotlib.image as mpimg\n",
    "\n",
    "class save_images ( object ):\n",
    "    def __init__( self ):\n",
    "        self.i = 0\n",
    "    def __call__( self, image):\n",
    "        # do something\n",
    "        self.i +=1\n",
    "        cv2.imwrite(\"test_images2/image\" + str(self.i) + \".jpg\", cv2.cvtColor(image, cv2.COLOR_BGR2RGB))\n",
    "        \n",
    "        return image\n",
    "    \n",
    "save_images = save_images()    \n",
    "    \n",
    "## creating additional test images\n",
    "from moviepy.editor import VideoFileClip\n",
    "output_video_name = 'challenge_video_output.mp4'\n",
    "clip1 = VideoFileClip(\"challenge_video.mp4\")\n",
    "clip2 = clip1.subclip(0,2)\n",
    "output_video = clip2.fl_image(save_images) #NOTE: this function expects color images!!\n",
    "\n",
    "%time output_video.write_videofile(output_video_name, audio=False)\n",
    "\n",
    "\n",
    "\n",
    "\n"
   ]
  },
  {
   "cell_type": "code",
   "execution_count": null,
   "metadata": {},
   "outputs": [],
   "source": [
    "class save_images ( object ):\n",
    "    def __init__( self ):\n",
    "        self.i = 0\n",
    "    def __call__( self, image):\n",
    "        # do something\n",
    "        self.i +=1\n",
    "        cv2.imwrite(\"test_images3/image\" + str(self.i) + \".jpg\", cv2.cvtColor(image, cv2.COLOR_BGR2RGB))\n",
    "        \n",
    "        return image\n",
    "    \n",
    "save_images = save_images()    \n",
    "    \n",
    "## creating additional test images\n",
    "from moviepy.editor import VideoFileClip\n",
    "output_video_name = 'project_video_output.mp4'\n",
    "clip1 = VideoFileClip(\"project_video.mp4\")\n",
    "output_video = clip1.fl_image(save_images) #NOTE: this function expects color images!!\n",
    "\n",
    "%time output_video.write_videofile(output_video_name, audio=False)\n",
    "\n"
   ]
  },
  {
   "cell_type": "code",
   "execution_count": null,
   "metadata": {},
   "outputs": [],
   "source": []
  },
  {
   "cell_type": "markdown",
   "metadata": {},
   "source": [
    "### undistorting"
   ]
  },
  {
   "cell_type": "code",
   "execution_count": null,
   "metadata": {},
   "outputs": [],
   "source": [
    "import cv2\n",
    "\n",
    "test_image = cv2.imread(\"test_images3/image577.jpg\")\n",
    "test_image = cv2.cvtColor(test_image, cv2.COLOR_BGR2RGB)"
   ]
  },
  {
   "cell_type": "code",
   "execution_count": null,
   "metadata": {},
   "outputs": [],
   "source": [
    "import matplotlib.pyplot as plt\n",
    "import glob\n",
    "import cv2\n",
    "import pickle\n",
    "import numpy as np\n",
    "# Read in the saved objpoints and imgpoints\n",
    "dist_pickle = pickle.load( open( \"wide_dist_pickle.p\", \"rb\" ) )\n",
    "mtx = dist_pickle[\"mtx\"]\n",
    "dist = dist_pickle[\"dist\"]\n",
    "print ( \" mtx.shape = \" + str(mtx.shape) )\n",
    "\n",
    "undst = cv2.undistort(test_image, mtx, dist, None, mtx)\n",
    "undst = np.copy(test_image)"
   ]
  },
  {
   "cell_type": "code",
   "execution_count": null,
   "metadata": {},
   "outputs": [],
   "source": [
    "# top_down, perspective_M = corners_unwarp(img, nx, ny, mtx, dist)\n",
    "f, (ax1, ax2) = plt.subplots(1, 2, figsize=(24, 9))\n",
    "f.tight_layout()\n",
    "ax1.imshow(test_image)\n",
    "ax1.set_title('Original Image', fontsize=50)\n",
    "\n",
    "ax2.imshow(undst)\n",
    "ax2.set_title('Undistorted', fontsize=50)\n",
    "plt.subplots_adjust(left=0., right=1, top=0.9, bottom=0.)\n",
    "plt.show()"
   ]
  },
  {
   "cell_type": "markdown",
   "metadata": {},
   "source": [
    "### experimenting thresholds\n",
    "#### Soebel X on the gray image"
   ]
  },
  {
   "cell_type": "code",
   "execution_count": null,
   "metadata": {},
   "outputs": [],
   "source": [
    "gray = cv2.cvtColor(undst, cv2.COLOR_RGB2GRAY)"
   ]
  },
  {
   "cell_type": "code",
   "execution_count": null,
   "metadata": {},
   "outputs": [],
   "source": [
    "# Sobel x\n",
    "sobelx = cv2.Sobel(gray, cv2.CV_64F, 1, 0) # Take the derivative in x\n",
    "abs_sobelx = np.absolute(sobelx) # Absolute x derivative to accentuate lines away from horizontal\n",
    "scaled_sobel = np.uint8(255*abs_sobelx/np.max(abs_sobelx))\n",
    "\n",
    "# Threshold x gradient\n",
    "thresh_min = 25\n",
    "thresh_max = 110\n",
    "soebelx_binary = np.zeros_like(scaled_sobel)\n",
    "soebelx_binary[(scaled_sobel >= thresh_min) & (scaled_sobel <= thresh_max)] = 1\n",
    "\n"
   ]
  },
  {
   "cell_type": "code",
   "execution_count": null,
   "metadata": {},
   "outputs": [],
   "source": [
    "temp = np.dstack(( soebelx_binary, soebelx_binary, soebelx_binary)) * 255\n",
    "\n",
    "plt.imshow(temp)\n",
    "plt.show()"
   ]
  },
  {
   "cell_type": "code",
   "execution_count": null,
   "metadata": {},
   "outputs": [],
   "source": [
    "# Define a function to return the magnitude of the gradient\n",
    "# for a given sobel kernel size and threshold values\n",
    "def mag_thresh(img, sobel_kernel=15, mag_thresh=(0, 255)):\n",
    "    # Convert to grayscale\n",
    "    gray = cv2.cvtColor(img, cv2.COLOR_RGB2GRAY)\n",
    "    # Take both Sobel x and y gradients\n",
    "    sobelx = cv2.Sobel(gray, cv2.CV_64F, 1, 0, ksize=sobel_kernel)\n",
    "    sobely = cv2.Sobel(gray, cv2.CV_64F, 0, 1, ksize=sobel_kernel)\n",
    "    # Calculate the gradient magnitude\n",
    "    gradmag = np.sqrt(sobelx**2 + sobely**2)\n",
    "    # Rescale to 8 bit\n",
    "    scale_factor = np.max(gradmag)/255\n",
    "    gradmag = (gradmag/scale_factor).astype(np.uint8)\n",
    "    # Create a binary image of ones where threshold is met, zeros otherwise\n",
    "    binary_output = np.zeros_like(gradmag)\n",
    "    binary_output[(gradmag >= mag_thresh[0]) & (gradmag <= mag_thresh[1])] = 1\n",
    "\n",
    "    # Return the binary image\n",
    "    return binary_output"
   ]
  },
  {
   "cell_type": "code",
   "execution_count": null,
   "metadata": {},
   "outputs": [],
   "source": [
    "mag_binary = mag_thresh(undst, sobel_kernel=3, mag_thresh=(30, 255))\n",
    "temp = np.dstack((mag_binary,mag_binary,mag_binary))*255\n",
    "plt.imshow(temp)\n",
    "plt.show()"
   ]
  },
  {
   "cell_type": "code",
   "execution_count": null,
   "metadata": {},
   "outputs": [],
   "source": [
    "# Define a function to threshold an image for a given range and Sobel kernel\n",
    "def dir_threshold(img, sobel_kernel=3, thresh=(0, np.pi/2)):\n",
    "    # Grayscale\n",
    "    gray = cv2.cvtColor(img, cv2.COLOR_RGB2GRAY)\n",
    "    # Calculate the x and y gradients\n",
    "    sobelx = cv2.Sobel(gray, cv2.CV_64F, 1, 0, ksize=sobel_kernel)\n",
    "    sobely = cv2.Sobel(gray, cv2.CV_64F, 0, 1, ksize=sobel_kernel)\n",
    "    # Take the absolute value of the gradient direction,\n",
    "    # apply a threshold, and create a binary image result\n",
    "    absgraddir = np.arctan2(np.absolute(sobely), np.absolute(sobelx))\n",
    "    binary_output =  np.zeros_like(absgraddir)\n",
    "    binary_output[(absgraddir >= thresh[0]) & (absgraddir <= thresh[1])] = 1\n",
    "\n",
    "    # Return the binary image\n",
    "    return binary_output"
   ]
  },
  {
   "cell_type": "code",
   "execution_count": null,
   "metadata": {},
   "outputs": [],
   "source": [
    "dir_binary = dir_threshold(undst, sobel_kernel=15, thresh=(0.7,1.2))\n",
    "temp = np.dstack((dir_binary,dir_binary,dir_binary)) #*255\n",
    "plt.imshow(temp)\n",
    "plt.show()"
   ]
  },
  {
   "cell_type": "markdown",
   "metadata": {},
   "source": [
    "### Choosing the best HLS channel"
   ]
  },
  {
   "cell_type": "code",
   "execution_count": null,
   "metadata": {},
   "outputs": [],
   "source": [
    "# Convert to HLS color space and separate the V channel\n",
    "hls = cv2.cvtColor(undst, cv2.COLOR_RGB2HLS).astype(np.float)\n",
    "h_channel = hls[:,:,0]\n",
    "l_channel = hls[:,:,1]\n",
    "s_channel = hls[:,:,2]\n",
    "h_channel_color = np.dstack((h_channel, h_channel, h_channel)) #*255\n",
    "l_channel_color = np.dstack((l_channel, l_channel, l_channel)) #*255\n",
    "s_channel_color = np.dstack((s_channel, s_channel, s_channel)) #*255"
   ]
  },
  {
   "cell_type": "code",
   "execution_count": null,
   "metadata": {},
   "outputs": [],
   "source": [
    "plt.imshow(h_channel_color, cmap=\"gray\")\n",
    "plt.title (\"h-channel\")\n",
    "plt.show()\n",
    "\n",
    "plt.imshow(l_channel_color, cmap=\"gray\")\n",
    "plt.title (\"l-channel\")\n",
    "plt.show()\n",
    "\n",
    "plt.imshow(s_channel_color, cmap=\"gray\")\n",
    "plt.title (\"s-channel\")\n",
    "plt.show()\n",
    "\n"
   ]
  },
  {
   "cell_type": "markdown",
   "metadata": {},
   "source": [
    "### S-channel Threshold"
   ]
  },
  {
   "cell_type": "code",
   "execution_count": null,
   "metadata": {},
   "outputs": [],
   "source": [
    "def hls_select(img, thresh=(0, 255),channel = \"s\"):\n",
    "    hls = cv2.cvtColor(img, cv2.COLOR_RGB2HLS)\n",
    "    if channel == \"s\":\n",
    "        channel = hls[:,:,2]\n",
    "    elif channel ==\"h\":        \n",
    "        channel = hls[:,:,0]\n",
    "    elif channel ==\"l\":        \n",
    "        channel = hls[:,:,1]\n",
    "    binary_output = np.zeros_like(channel)\n",
    "    binary_output[(channel > thresh[0]) & (channel <= thresh[1])] = 1\n",
    "    return binary_output"
   ]
  },
  {
   "cell_type": "code",
   "execution_count": null,
   "metadata": {},
   "outputs": [],
   "source": [
    "s_binary = hls_select(undst,thresh=(100, 220),channel=\"s\")\n"
   ]
  },
  {
   "cell_type": "code",
   "execution_count": null,
   "metadata": {},
   "outputs": [],
   "source": [
    "temp = np.dstack((s_binary,s_binary,s_binary)) *255\n",
    "plt.imshow(temp,cmap=\"gray\")\n",
    "plt.show()"
   ]
  },
  {
   "cell_type": "markdown",
   "metadata": {},
   "source": [
    "#### combining together s-channel threshold and soebel x "
   ]
  },
  {
   "cell_type": "code",
   "execution_count": null,
   "metadata": {},
   "outputs": [],
   "source": [
    "# Merge the images. Based on lots of trial and error\n",
    "combined = np.zeros_like(dir_binary)\n",
    "combined[((s_binary == 1))|((dir_binary == 1)&(mag_binary == 1))] = 1"
   ]
  },
  {
   "cell_type": "code",
   "execution_count": null,
   "metadata": {},
   "outputs": [],
   "source": [
    "plt.imshow(combined, cmap=\"gray\")\n",
    "\n",
    "plt.show()"
   ]
  },
  {
   "cell_type": "markdown",
   "metadata": {},
   "source": [
    "### Changing the perspective"
   ]
  },
  {
   "cell_type": "code",
   "execution_count": null,
   "metadata": {},
   "outputs": [],
   "source": [
    "x_len = undst.shape[1]\n",
    "y_len = undst.shape[0]\n",
    "\n",
    "#######    \n",
    "## calculate the source points for image warp ( bird eyes view )\n",
    "#######    \n",
    "src_top_left     = [int(0.4353125*x_len),int(0.65*y_len)]\n",
    "src_top_right    = [int(0.5778125*x_len),int(0.65*y_len)]\n",
    "\n",
    "src_bottom_left  = [int(0.19171875*x_len),y_len]\n",
    "src_bottom_right = [int(0.92*x_len),y_len]\n",
    "\n",
    "src_corners = np.float32([src_top_left,\n",
    "                      src_top_right,\n",
    "                      src_bottom_right,\n",
    "                      src_bottom_left])"
   ]
  },
  {
   "cell_type": "code",
   "execution_count": null,
   "metadata": {},
   "outputs": [],
   "source": [
    "def draw_poly (img, src_corners):\n",
    "    img_draw = np.copy(img)\n",
    "#     print ( src_corners[0][0])\n",
    "#     print (src_corners[0][1])\n",
    "    cv2.line(img_draw,tuple(src_corners[0]),\n",
    "                      tuple(src_corners[3]),\n",
    "                       (255,0,0),5)\n",
    "\n",
    "    cv2.line(img_draw,tuple(src_corners[1]),\n",
    "                      tuple(src_corners[2]),\n",
    "                       (255,0,0),5)\n",
    "\n",
    "    return img_draw\n",
    "drawed_poly = draw_poly(np.copy(undst), src_corners)\n",
    "plt.imshow(drawed_poly)\n",
    "plt.show()"
   ]
  },
  {
   "cell_type": "code",
   "execution_count": null,
   "metadata": {},
   "outputs": [],
   "source": [
    "def bird_eyes (image , src_corners, dst_corners) :\n",
    "    \n",
    "    M = cv2.getPerspectiveTransform(src_corners, dst_corners)\n",
    "    Minv = cv2.getPerspectiveTransform(dst_corners, src_corners)\n",
    "    warped = cv2.warpPerspective(image, M, ( image.shape[1], image.shape[0]), flags=cv2.INTER_LINEAR)\n",
    "\n",
    "    return warped, M, Minv\n"
   ]
  },
  {
   "cell_type": "code",
   "execution_count": null,
   "metadata": {},
   "outputs": [],
   "source": [
    "#######    \n",
    "## calculate the destination points for image warp ( bird eyes view )\n",
    "#######    \n",
    "dst_bottom_left = [int(.33*x_len),y_len] \n",
    "dst_bottom_right = [int(0.725*x_len), y_len]\n",
    "\n",
    "dst_top_left = [int(.345*x_len), 1]\n",
    "dst_top_right = [int(0.71875*x_len), 1]\n",
    "\n",
    "dst_corners = np.float32([dst_top_left,\n",
    "                          dst_top_right,\n",
    "                          dst_bottom_right, \n",
    "                          dst_bottom_left\n",
    "                         ])\n",
    "\n",
    "\n",
    "warped , M, Minv = bird_eyes(combined,src_corners, dst_corners)\n",
    "warped[warped > 0 ] = 1\n",
    "plt.imshow(warped,cmap=\"gray\")\n",
    "plt.show()\n"
   ]
  },
  {
   "cell_type": "code",
   "execution_count": null,
   "metadata": {},
   "outputs": [],
   "source": []
  },
  {
   "cell_type": "code",
   "execution_count": null,
   "metadata": {},
   "outputs": [],
   "source": [
    "warped_drawed , M_drawed, Minv_drawed = bird_eyes(drawed_poly,src_corners, dst_corners)\n",
    "plt.imshow(warped_drawed)\n",
    "plt.show()\n"
   ]
  },
  {
   "cell_type": "code",
   "execution_count": null,
   "metadata": {},
   "outputs": [],
   "source": [
    "def remove_edge_pixels(img, thresh=75):\n",
    "    shape=img.shape\n",
    "    w=shape[1]\n",
    "    h=shape[0]\n",
    "    # left\n",
    "    cv2.rectangle(img,(0,0),(thresh,h),(0,0,0),thresh)\n",
    "    #right\n",
    "    cv2.rectangle(img,(w-thresh,0),(w,h),(0,0,0),thresh)\n",
    "    return img"
   ]
  },
  {
   "cell_type": "code",
   "execution_count": null,
   "metadata": {},
   "outputs": [],
   "source": [
    "warped_cutted = remove_edge_pixels(warped,thresh=200)\n",
    "plt.imshow(warped_cutted,cmap=\"gray\")\n",
    "plt.show()"
   ]
  },
  {
   "cell_type": "markdown",
   "metadata": {},
   "source": [
    "### defining Pipeline function"
   ]
  },
  {
   "cell_type": "code",
   "execution_count": null,
   "metadata": {},
   "outputs": [],
   "source": [
    "# Edit this function to create your own pipeline.\n",
    "def pipeline(input_img, s_thresh=(140, 255), sx_thresh=(140, 255)):\n",
    "\n",
    "    # Threshold magnitude\n",
    "    mag_binary = mag_thresh(input_img, sobel_kernel=3, mag_thresh=(30, 255))\n",
    "\n",
    "    ####\n",
    "    # Direction threshold\n",
    "    ####\n",
    "    dir_binary = dir_threshold(input_img, sobel_kernel=15, thresh=(0.7,1.2))\n",
    "\n",
    "    ####\n",
    "    # hls threshold\n",
    "    ####\n",
    "    s_binary = hls_select(input_img,thresh=(100, 220))\n",
    "\n",
    "    # Merge the images. Based on lots of trial and error\n",
    "    combined_binary = np.zeros_like(dir_binary)\n",
    "    combined_binary[((s_binary == 1))|((dir_binary == 1)&(mag_binary == 1))] = 1\n",
    "\n",
    "   \n",
    "    return combined_binary,  mag_binary , dir_binary, s_binary"
   ]
  },
  {
   "cell_type": "code",
   "execution_count": null,
   "metadata": {},
   "outputs": [],
   "source": [
    "pipelined , mag_binary , dir_binary, s_binary = pipeline(undst)\n",
    "\n",
    "temp = np.dstack((mag_binary,mag_binary,mag_binary))*255\n",
    "plt.imshow(temp, cmap=\"gray\")\n",
    "plt.title (\"mag_binary\")\n",
    "plt.show()\n",
    "\n",
    "temp = np.dstack((dir_binary,dir_binary,dir_binary)) #*255\n",
    "plt.imshow(temp, cmap=\"gray\")\n",
    "plt.title (\"dir_binary\")\n",
    "plt.show()\n",
    "\n",
    "temp = np.dstack((s_binary,s_binary,s_binary))*255\n",
    "plt.imshow(temp, cmap=\"gray\")\n",
    "plt.title (\"s_binary\")\n",
    "plt.show()\n",
    "\n",
    "pipelined_color = np.dstack((np.zeros_like(pipelined),np.zeros_like(pipelined),pipelined)) #*255\n",
    "plt.imshow(pipelined_color)\n",
    "plt.title (\"combined\")\n",
    "plt.show()\n",
    "\n",
    "\n"
   ]
  },
  {
   "cell_type": "code",
   "execution_count": null,
   "metadata": {},
   "outputs": [],
   "source": [
    "warped , M, Minv = bird_eyes(combined,src_corners, dst_corners)\n",
    "warped[warped > 0 ] = 1\n",
    "warped_cutted = remove_edge_pixels(warped,thresh=200)\n",
    "plt.imshow(warped_cutted, cmap=\"gray\")\n",
    "plt.show()"
   ]
  },
  {
   "cell_type": "markdown",
   "metadata": {},
   "source": [
    "# Line Finding Method: Peaks in a Histogram"
   ]
  },
  {
   "cell_type": "code",
   "execution_count": null,
   "metadata": {},
   "outputs": [],
   "source": [
    "import numpy as np\n",
    "histogram = np.sum(warped[warped.shape[0]//2:,:], axis=0)\n",
    "plt.plot(histogram)\n",
    "plt.show()"
   ]
  },
  {
   "cell_type": "code",
   "execution_count": null,
   "metadata": {},
   "outputs": [],
   "source": [
    "pipelined[pipelined > 1]"
   ]
  },
  {
   "cell_type": "code",
   "execution_count": null,
   "metadata": {
    "scrolled": false
   },
   "outputs": [],
   "source": [
    "import numpy as np\n",
    "import cv2\n",
    "import matplotlib.pyplot as plt\n",
    "\n",
    "def histogram_lane_find(input_image):\n",
    "    # Assuming you have created a warped binary image called \"binary_warped\"\n",
    "    # Take a histogram of the bottom half of the image\n",
    "    histogram = np.sum(input_image[input_image.shape[0]//2:,:], axis=0)\n",
    "    # Create an output image to draw on and  visualize the result\n",
    "    out_img = np.dstack((np.zeros_like(input_image), input_image, input_image)) \n",
    "#     out_img = np.copy(input_image)\n",
    "    # Find the peak of the left and right halves of the histogram\n",
    "    # These will be the starting point for the left and right lines\n",
    "    midpoint = np.int(histogram.shape[0]/2)\n",
    "#     print ( \"midpoint = \" + str(midpoint ))\n",
    "    leftx_base = np.argmax(histogram[:midpoint])\n",
    "    rightx_base = np.argmax(histogram[midpoint:]) + midpoint\n",
    "#     print ( \"leftx_base = \" + str(leftx_base ))\n",
    "#     print ( \"rightx_base = \" + str(rightx_base ))\n",
    "\n",
    "    # Choose the number of sliding windows\n",
    "    nwindows = 9\n",
    "    # Set height of windows\n",
    "    window_height = np.int(input_image.shape[0]/nwindows)\n",
    "    # Identify the x and y positions of all nonzero pixels in the image\n",
    "    nonzero = input_image.nonzero()\n",
    "    nonzeroy = np.array(nonzero[0])\n",
    "    nonzerox = np.array(nonzero[1])\n",
    "    # Current positions to be updated for each window\n",
    "    leftx_current = leftx_base\n",
    "    rightx_current = rightx_base\n",
    "    # Set the width of the windows +/- margin\n",
    "    margin = 70\n",
    "    # Set minimum number of pixels found to recenter window\n",
    "    minpix = 50\n",
    "    # Create empty lists to receive left and right lane pixel indices\n",
    "    left_lane_inds = []\n",
    "    right_lane_inds = []\n",
    "\n",
    "    # Step through the windows one by one\n",
    "    for window in range(nwindows):\n",
    "#         print (\"window\" )\n",
    "        # Identify window boundaries in x and y (and right and left)\n",
    "        win_y_low = input_image.shape[0] - (window+1)*window_height\n",
    "        win_y_high = input_image.shape[0] - window*window_height\n",
    "        win_xleft_low = leftx_current - margin\n",
    "        win_xleft_high = leftx_current + margin\n",
    "        win_xright_low = rightx_current - margin\n",
    "        win_xright_high = rightx_current + margin\n",
    "        # Draw the windows on the visualization image\n",
    "        \n",
    "#         print ( \"win_xleft_low = \" + str(win_xleft_low))\n",
    "#         print ( \"win_y_low = \" + str(win_y_low))\n",
    "#         print ( \"win_xleft_high = \" + str(win_xleft_high))\n",
    "#         print ( \"win_y_high = \" + str(win_y_high))\n",
    "        \n",
    "        cv2.rectangle(out_img,(win_xleft_low,win_y_low),(win_xleft_high,win_y_high),\n",
    "        (1,1,1), 4) \n",
    "        cv2.rectangle(out_img,(win_xright_low,win_y_low),(win_xright_high,win_y_high),\n",
    "        (1,1,1), 5) \n",
    "#         plt.imshow(out_img,cmap=\"gray\")\n",
    "#         plt.show()\n",
    "        # Identify the nonzero pixels in x and y within the window\n",
    "        good_left_inds = ((nonzeroy >= win_y_low) & (nonzeroy < win_y_high) & \n",
    "        (nonzerox >= win_xleft_low) &  (nonzerox < win_xleft_high)).nonzero()[0]\n",
    "        good_right_inds = ((nonzeroy >= win_y_low) & (nonzeroy < win_y_high) & \n",
    "        (nonzerox >= win_xright_low) &  (nonzerox < win_xright_high)).nonzero()[0]\n",
    "        # Append these indices to the lists\n",
    "        left_lane_inds.append(good_left_inds)\n",
    "        right_lane_inds.append(good_right_inds)\n",
    "        # If you found > minpix pixels, recenter next window on their mean position\n",
    "        if len(good_left_inds) > minpix:\n",
    "            leftx_current = np.int(np.mean(nonzerox[good_left_inds]))\n",
    "        if len(good_right_inds) > minpix:        \n",
    "            rightx_current = np.int(np.mean(nonzerox[good_right_inds]))\n",
    "\n",
    "    # Concatenate the arrays of indices\n",
    "    left_lane_inds = np.concatenate(left_lane_inds)\n",
    "    right_lane_inds = np.concatenate(right_lane_inds)\n",
    "\n",
    "    # Extract left and right line pixel positions\n",
    "    leftx = nonzerox[left_lane_inds]\n",
    "    lefty = nonzeroy[left_lane_inds] \n",
    "    rightx = nonzerox[right_lane_inds]\n",
    "    righty = nonzeroy[right_lane_inds] \n",
    "\n",
    "    # Fit a second order polynomial to each\n",
    "    left_fit = np.polyfit(lefty, leftx, 2)\n",
    "    right_fit = np.polyfit(righty, rightx, 2)\n",
    "\n",
    "#     out_img = np.zeros_like(out_img)\n",
    "    out_img[nonzeroy[left_lane_inds], nonzerox[left_lane_inds]] = [1, 0, 0 ]\n",
    "\n",
    "    out_img[nonzeroy[right_lane_inds], nonzerox[right_lane_inds]] = [0, 0, 1]\n",
    "\n",
    "    return  out_img , left_fit , right_fit\n",
    "\n",
    "out_img , left_fit , right_fit= histogram_lane_find (warped_cutted)\n",
    "# # Fit a second order polynomial to each\n",
    "\n",
    "plt.imshow(out_img)\n",
    "plt.show()\n",
    "\n"
   ]
  },
  {
   "cell_type": "code",
   "execution_count": null,
   "metadata": {},
   "outputs": [],
   "source": [
    "def draw_polyfit( input_image, left_fitx, right_fitx):\n",
    "    temp = np.copy(input_image)\n",
    "\n",
    "    for y, x  in enumerate(left_fitx):\n",
    "        if x > 0 and x <  input_image.shape[1]:\n",
    "            yellow = [1,1,.5]\n",
    "            temp[y,int(x) ] = yellow\n",
    "            if x < temp.shape[1] - 5:\n",
    "                temp[y,int(x) +1 ] = yellow\n",
    "                temp[y,int(x) +2 ] = yellow\n",
    "                temp[y,int(x) +3 ] = yellow\n",
    "                temp[y,int(x) +4 ] = yellow\n",
    "            if x > 5:    \n",
    "                temp[y,int(x) -1 ] = yellow\n",
    "                temp[y,int(x) -2 ] = yellow\n",
    "\n",
    "    for y, x  in enumerate(right_fitx):\n",
    "        if x > 0 and x <  input_image.shape[1]:\n",
    "            yellow = [1,1,.5]\n",
    "            temp[y,int(x) ] = yellow\n",
    "            if x < temp.shape[1] - 5:\n",
    "                temp[y,int(x) +1 ] = yellow\n",
    "                temp[y,int(x) +2 ] = yellow\n",
    "                temp[y,int(x) +3 ] = yellow\n",
    "                temp[y,int(x) +4 ] = yellow\n",
    "            if x > 5:    \n",
    "                temp[y,int(x) -1 ] = yellow\n",
    "                temp[y,int(x) -2 ] = yellow\n",
    "                temp[y,int(x) -3 ] = yellow\n",
    "                temp[y,int(x) -4 ] = yellow\n",
    "\n",
    "    return temp\n",
    "\n",
    "# Generate x and y values for plotting\n",
    "ploty = np.linspace(0, undst.shape[0]-1, undst.shape[0] )\n",
    "left_fitx = left_fit[0]*ploty**2 + left_fit[1]*ploty + left_fit[2]\n",
    "right_fitx = right_fit[0]*ploty**2 + right_fit[1]*ploty + right_fit[2]\n",
    "\n",
    "    \n",
    "plt.imshow(draw_polyfit(out_img, left_fitx, right_fitx))\n",
    "plt.show()"
   ]
  },
  {
   "cell_type": "code",
   "execution_count": null,
   "metadata": {},
   "outputs": [],
   "source": [
    "temp.shape[1]"
   ]
  },
  {
   "cell_type": "code",
   "execution_count": null,
   "metadata": {},
   "outputs": [],
   "source": [
    "def draw_area_and_warpback(ori_undst_img ,left_fitx, right_fitx, Minv ):\n",
    "    # Create an image to draw the lines on\n",
    "    warp_zero = np.zeros_like(ori_undst_img).astype(np.uint8)\n",
    "#     color_warp = np.dstack((warp_zero, warp_zero, warp_zero))\n",
    "\n",
    "    # Recast the x and y points into usable format for cv2.fillPoly()\n",
    "    ploty = np.linspace(0, ori_undst_img.shape[0]-1, ori_undst_img.shape[0] )\n",
    "    \n",
    "    pts_left = np.array([np.transpose(np.vstack([left_fitx, ploty]))])\n",
    "    pts_right = np.array([np.flipud(np.transpose(np.vstack([right_fitx, ploty])))])\n",
    "    pts = np.hstack((pts_left, pts_right))\n",
    "\n",
    "    # Draw the lane onto the warped blank image\n",
    "    cv2.fillPoly(warp_zero, np.int_([pts]), (0,255, 0))\n",
    "\n",
    "    # Warp the blank back to original image space using inverse perspective matrix (Minv)\n",
    "    newwarp = cv2.warpPerspective(warp_zero, Minv, (ori_undst_img.shape[1], ori_undst_img.shape[0])) \n",
    "    # Combine the result with the original image\n",
    "    result = newwarp\n",
    "    result = cv2.addWeighted(ori_undst_img, 1, newwarp, 0.3, 0)\n",
    "    \n",
    "    return result\n",
    "\n",
    "plt.imshow(draw_area_and_warpback(undst,left_fitx, right_fitx, Minv))\n",
    "# plt.imshow(warped)\n",
    "plt.show()"
   ]
  },
  {
   "cell_type": "code",
   "execution_count": null,
   "metadata": {},
   "outputs": [],
   "source": [
    "warped.shape"
   ]
  },
  {
   "cell_type": "code",
   "execution_count": null,
   "metadata": {},
   "outputs": [],
   "source": [
    "temp = warped*255\n",
    "temp[temp>0]"
   ]
  },
  {
   "cell_type": "markdown",
   "metadata": {},
   "source": [
    "## Working on the video"
   ]
  },
  {
   "cell_type": "code",
   "execution_count": null,
   "metadata": {},
   "outputs": [],
   "source": [
    "# Define a class to receive the characteristics of each line detection\n",
    "class Line():\n",
    "    def __init__(self):\n",
    "        # was the line detected in the last iteration?\n",
    "        self.detected = False  \n",
    "        # x values of the last n fits of the line\n",
    "        self.recent_xfitted = [] \n",
    "        #average x values of the fitted line over the last n iterations\n",
    "        self.bestx = None     \n",
    "        #polynomial coefficients averaged over the last n iterations\n",
    "        self.best_fit = None  \n",
    "        #polynomial coefficients for the most recent fit\n",
    "        self.current_fit = []  \n",
    "        #radius of curvature of the line in some units\n",
    "        self.previous_radius=[]  \n",
    "        #distance in meters of vehicle center from the line\n",
    "        self.line_base_pos = None \n",
    "        #difference in fit coefficients between last and new fits\n",
    "        self.diffs = np.array([0,0,0], dtype='float') \n",
    "        #x values for detected line pixels\n",
    "        self.allx = None  \n",
    "        #y values for detected line pixels\n",
    "        self.ally = None\n"
   ]
  },
  {
   "cell_type": "code",
   "execution_count": null,
   "metadata": {},
   "outputs": [],
   "source": [
    "left_line = Line()\n",
    "right_line = Line()\n",
    "\n"
   ]
  },
  {
   "cell_type": "code",
   "execution_count": null,
   "metadata": {},
   "outputs": [],
   "source": [
    "def draw_processing_inlay(final, out_img, text, lay_number, left_or_right_pos) :\n",
    "        # Add the processing window. Shows Histogram fitting errors\n",
    "        font = cv2.FONT_HERSHEY_SIMPLEX\n",
    "#         fit_errors = \"L: {:0.4f}  R: {:0.4f}\".format(np.sum(left_line.current_fit_error**2),np.sum(right_line.current_fit_error**2))\n",
    "\n",
    "        if out_img == None:\n",
    "            if left_or_right_pos == \"left\":\n",
    "                x_offset =  20\n",
    "            else:\n",
    "                x_offset = final.shape[1]- 330\n",
    "\n",
    "            y_offset = 55 + 40* (lay_number - 1)\n",
    "            final = cv2.putText(final,text,(x_offset,y_offset), font, .5,(255,255,255),1,lineType = cv2.LINE_AA)\n",
    "        else:\n",
    "            if left_or_right_pos == \"left\":\n",
    "                x_offset =  20\n",
    "            else:\n",
    "                x_offset = final.shape[1]- 230\n",
    "\n",
    "            y_offset = 25 + 150* (lay_number - 1)\n",
    "            out_img = cv2.resize(out_img,(int(320*.6),int(240*.6)))\n",
    "            out_img = cv2.putText(out_img,text,(10,30), font, .5,(255,255,255),1,lineType = cv2.LINE_AA)\n",
    "            final[y_offset:y_offset+out_img.shape[0], x_offset:x_offset+out_img.shape[1]] = out_img\n",
    "\n",
    "            final[y_offset:y_offset+out_img.shape[0], x_offset:x_offset+out_img.shape[1]] = out_img\n",
    "            \n",
    "        return final"
   ]
  },
  {
   "cell_type": "code",
   "execution_count": null,
   "metadata": {},
   "outputs": [],
   "source": [
    "from PIL import Image\n",
    "\n",
    "def process_image(input_img):\n",
    "    #######    \n",
    "    ## undistort the image based on previous Camera Calibration\n",
    "    #######\n",
    "    undst = cv2.undistort(input_img, mtx, dist, None, mtx)\n",
    "\n",
    "#     undst = cv2.GaussianBlur(undst, (3, 3), 0)\n",
    "\n",
    "    #######    \n",
    "    ## determine the image dimension \n",
    "    #######\n",
    "    x_len = input_img.shape [1]\n",
    "    y_len = input_img.shape [0]\n",
    "    \n",
    "    #######    \n",
    "    ## calculate the source points for image warp ( bird eyes view )\n",
    "    #######    \n",
    "    src_top_left     = [int(0.4453125*x_len),int(0.62*y_len)]\n",
    "    src_top_right    = [int(0.5278125*x_len),int(0.62*y_len)]\n",
    "\n",
    "    src_bottom_left  = [int(0.19171875*x_len),y_len]\n",
    "    src_bottom_right = [int(0.92*x_len),y_len]\n",
    "\n",
    "    src_corners = np.float32([src_top_left,\n",
    "                          src_top_right,\n",
    "                          src_bottom_right,\n",
    "                          src_bottom_left])\n",
    "    \n",
    "\n",
    "    #######    \n",
    "    ## calculate the destination points for image warp ( bird eyes view )\n",
    "    #######    \n",
    "    dst_bottom_left = [int(.33*x_len),y_len] \n",
    "    dst_bottom_right = [int(0.725*x_len), y_len]\n",
    "\n",
    "    dst_top_left = [int(.345*x_len), 1]\n",
    "    dst_top_right = [int(0.71875*x_len), 1]\n",
    "\n",
    "    dst_corners = np.float32([dst_top_left,\n",
    "                              dst_top_right,\n",
    "                              dst_bottom_right, \n",
    "                              dst_bottom_left\n",
    "                             ])\n",
    "\n",
    "    #######    \n",
    "    ## Combined Thresholds\n",
    "    #######    \n",
    "    combined_thresholds_binary , mag_binary , dir_binary, s_binary = pipeline(undst)\n",
    "\n",
    "    #######    \n",
    "    ## bird eyes ( perspective transform ) using the undistorted image \n",
    "    #####\n",
    "    bird_eyes_img, M, Minv = bird_eyes( combined_thresholds_binary, src_corners, dst_corners)    \n",
    "    \n",
    "    # the combined_thresholds_binary was binary but the warp bird eyes will change the value of the pixels\n",
    "    ## so I reset to 1 max value \n",
    "    bird_eyes_img[bird_eyes_img > 0 ] = 1\n",
    "\n",
    "    # cut off areas of non interest = left & right side\n",
    "    bird_eyes_img = remove_edge_pixels(bird_eyes_img,thresh=200)\n",
    "\n",
    "    ## Bird eyes for poly draw on the undistorted image\n",
    "    drawed_poly = draw_poly(undst, src_corners )\n",
    "    bird_eyes_img_draw, M_draw, Minv_draw = bird_eyes( drawed_poly, src_corners, dst_corners)    \n",
    "    \n",
    "    # cut off areas of non interest = left & right side\n",
    "    bird_eyes_img_draw = remove_edge_pixels(bird_eyes_img_draw,thresh=200)\n",
    "    \n",
    "    #######    \n",
    "    ## sliding window using histogram\n",
    "    #######    \n",
    "    \n",
    "    out_img_histo , left_fit , right_fit= histogram_lane_find (bird_eyes_img)\n",
    "\n",
    "    ###\n",
    "    ## calculate an average for the polynomial coefficients\n",
    "    ####\n",
    "    left_fit_avg = left_fit # np.array(left_line.current_fit).mean(0)\n",
    "    right_fit_avg = left_fit #np.array(right_line.current_fit).mean(0)\n",
    "\n",
    "#     left_line.diffs = np.abs(left_line.current_fit[-1]  - left_fit)\n",
    "\n",
    "    ######\n",
    "    ## Calculate the radius of the curvature\n",
    "    ym_per_pix = 30/720\n",
    "    xm_per_pix = 3.7/700 \n",
    "\n",
    "    ploty = np.linspace(0, undst.shape[0]-1, undst.shape[0] )\n",
    "    y_eval = np.max(ploty)\n",
    "    \n",
    "    left_curve_rad = ((1 + (2*left_fit[0]*y_eval*ym_per_pix + left_fit[1])**2)**1.5) / np.absolute(2*left_fit[0])    \n",
    "    right_curve_rad = ((1 + (2*right_fit[0]*y_eval*ym_per_pix + right_fit[1])**2)**1.5) / np.absolute(2*right_fit[0])    \n",
    "\n",
    "    left_line_previous_radius_mean  =  np.mean(left_line.previous_radius)\n",
    "    left_radius_diff = (left_curve_rad - left_line_previous_radius_mean) /left_line_previous_radius_mean * 100\n",
    "    left_line.previous_radius.append(left_curve_rad)\n",
    "    left_line.previous_radius = left_line.previous_radius[:-3]\n",
    "    print ( left_line.previous_radius )\n",
    "\n",
    "    right_line_previous_radius_mean  =  np.mean(right_line.previous_radius)\n",
    "    right_radius_diff = (right_curve_rad - right_line_previous_radius_mean) /right_line_previous_radius_mean * 100\n",
    "    right_line.previous_radius.append(right_curve_rad)\n",
    "    right_line.previous_radius = right_line.previous_radius[:-3]\n",
    "    \n",
    "#     left_fit_avg = np.array(left_line.current_fit).mean(0)\n",
    "#     right_fit_avg = np.array(right_line.current_fit).mean(0)\n",
    "\n",
    "    left_fit_avg  = left_fit\n",
    "    right_fit_avg = right_fit\n",
    "\n",
    "    \n",
    "    # Generate x and y values for plotting\n",
    "    ploty = np.linspace(0, undst.shape[0]-1, undst.shape[0] )\n",
    "    left_fitx = left_fit_avg[0]*ploty**2 + left_fit_avg[1]*ploty + left_fit_avg[2]\n",
    "    right_fitx = right_fit_avg[0]*ploty**2 + right_fit_avg[1]*ploty + right_fit_avg[2]\n",
    "    \n",
    "    out_img_histo_poly = draw_polyfit(out_img_histo, left_fitx, right_fitx)\n",
    "    #######    \n",
    "    ## cutting only what is inside of the sliding windows \n",
    "    #######    \n",
    "    \n",
    "#     left_fitx, right_fitx, left_nonzero_y, right_nonzero_y , left_cutted, right_cutted \\\n",
    "#                     = polyfit_lanes(combined_thresholds, l_points, r_points )\n",
    "\n",
    "#     cutted_image = cv2.bitwise_or(left_cutted, right_cutted)\n",
    "# #     print (\" cutted_image.shape\" + str(cutted_image.shape))\n",
    "# #     print (\" template.shape\" + str(template.shape))\n",
    "#     cutted_image = cv2.addWeighted(np.dstack((cutted_image, cutted_image, cutted_image)), 1, template, 0.5, 0.0) # overlay the orignal road image with window results\n",
    "    # Display the final results\n",
    "#     print ( find_window_centroids(possible_lines, window_width, window_height, margin))\n",
    "#     windows_image = draw_windows(original,window_width, window_height,margin)\n",
    "\n",
    "    #######    \n",
    "    ## copy the input image into the final \n",
    "    #######    \n",
    "#     final = np.copy ( input_img)\n",
    "    final = draw_area_and_warpback(undst,left_fitx, right_fitx,Minv )\n",
    "    #######    \n",
    "    ## insert a box inside of the original image with the bird eyes view \n",
    "    #######    \n",
    "    temp = np.dstack((bird_eyes_img,bird_eyes_img,bird_eyes_img)) * 255\n",
    "    final = draw_processing_inlay(final, temp, \"Bird Eyes\", 1, \"left\")   \n",
    "#     final = draw_processing_inlay(final, bird_eyes_img, \"Bird eyes\", 1)   \n",
    "#     final = draw_processing_inlay(final, cv2.cvtColor(combined_thresholds_color, cv2.COLOR_BGR2GRAY), \"Lane lines\", 2)   \n",
    "#     print (\"out_img_histo_poly.shape = \" + str(out_img_histo_poly.shape))\n",
    "#     print (\"out_img_histo_poly > 0  \" + str(out_img_histo_poly[out_img_histo_poly > 0]))\n",
    "    temp = out_img_histo_poly*255\n",
    "    final = draw_processing_inlay(final, temp , \"Poly\", 2, \"left\")   \n",
    "\n",
    "    combined_thresholds_color = np.dstack((combined_thresholds_binary,\\\n",
    "                                           combined_thresholds_binary,\\\n",
    "                                           combined_thresholds_binary))*255\n",
    "    final = draw_processing_inlay(final,combined_thresholds_color, \"Combined thresholds\", 3, \"left\")   \n",
    "#     final = draw_processing_inlay(final,out_img_histo, \"Windows sliding\", 4, \"left\")   \n",
    "\n",
    "    text = \"left_curve_rad  = \"+str(int(left_curve_rad )) + \"\\n {} %\".format(left_radius_diff)\n",
    "    final = draw_processing_inlay(final,None, text, 1, \"right\")   \n",
    "\n",
    "    text = \"right_curve_rad = \"+str(int(right_curve_rad ))+ \"\\n {} %\".format(right_radius_diff)\n",
    "    final = draw_processing_inlay(final,None, text, 2, \"right\")   \n",
    "#     font = cv2.FONT_HERSHEY_SIMPLEX\n",
    "#     final = cv2.putText(final,text,(100,100), font, .5,(255,255,255),1,lineType = cv2.LINE_AA)\n",
    "#     final = draw_processing_inlay(final,bird_eyes_img_draw, \"bird_eyes_img_draw\", 3, \"right\")   \n",
    "\n",
    "    \n",
    "#     temp = np.dstack((canny,canny,canny))\n",
    "#     final = draw_processing_inlay(final,temp, \"canny\", 4, \"right\")   \n",
    "\n",
    "    return final"
   ]
  },
  {
   "cell_type": "code",
   "execution_count": null,
   "metadata": {
    "scrolled": false
   },
   "outputs": [],
   "source": [
    "left_line = Line()\n",
    "right_line = Line()\n",
    "\n",
    "\n",
    "from moviepy.editor import VideoFileClip\n",
    "output_video_name = 'project_video_output2.mp4'\n",
    "clip1 = VideoFileClip(\"project_video.mp4\")\n",
    "clip2 = clip1.subclip(21,22)\n",
    "output_video = clip2.fl_image(process_image) #NOTE: this function expects color images!!\n",
    "\n",
    "%time output_video.write_videofile(output_video_name, audio=False)\n",
    "clip1.reader.close()\n",
    "clip1.audio.reader.close_proc()"
   ]
  },
  {
   "cell_type": "code",
   "execution_count": null,
   "metadata": {},
   "outputs": [],
   "source": [
    "clip1.reader.close()\n",
    "clip1.audio.reader.close_proc()"
   ]
  },
  {
   "cell_type": "code",
   "execution_count": null,
   "metadata": {},
   "outputs": [],
   "source": [
    "left_line.current_fit[0]"
   ]
  },
  {
   "cell_type": "code",
   "execution_count": null,
   "metadata": {},
   "outputs": [],
   "source": [
    "diff"
   ]
  },
  {
   "cell_type": "code",
   "execution_count": null,
   "metadata": {},
   "outputs": [],
   "source": [
    "np.linspace(0, 719, 720)"
   ]
  },
  {
   "cell_type": "markdown",
   "metadata": {},
   "source": [
    "# Measuring Curvature"
   ]
  },
  {
   "cell_type": "code",
   "execution_count": null,
   "metadata": {},
   "outputs": [],
   "source": [
    "import numpy as np\n",
    "import matplotlib.pyplot as plt\n",
    "# Generate some fake data to represent lane-line pixels\n",
    "ploty = np.linspace(0, 719, num=720)# to cover same y-range as image\n",
    "quadratic_coeff = 3e-4 # arbitrary quadratic coefficient\n",
    "# For each y position generate random x position within +/-50 pix\n",
    "# of the line base position in each case (x=200 for left, and x=900 for right)\n",
    "leftx = np.array([200 + (y**2)*quadratic_coeff + np.random.randint(-50, high=51) \n",
    "                              for y in ploty])\n",
    "rightx = np.array([900 + (y**2)*quadratic_coeff + np.random.randint(-50, high=51) \n",
    "                                for y in ploty])\n",
    "\n",
    "print (\"leftx.shape {}\".format(leftx.shape))\n",
    "print (\"rightx.shape {}\".format(rightx.shape))\n",
    "leftx = leftx[::-1]  # Reverse to match top-to-bottom in y\n",
    "rightx = rightx[::-1]  # Reverse to match top-to-bottom in y\n",
    "\n",
    "\n",
    "# Fit a second order polynomial to pixel\n",
    "positions in each fake lane line\n",
    "left_fit = np.polyfit(ploty, leftx, 2)\n",
    "left_fitx = left_fit[0]*ploty**2 + left_fit[1]*ploty + left_fit[2]\n",
    "right_fit = np.polyfit(ploty, rightx, 2)\n",
    "right_fitx = right_fit[0]*ploty**2 + right_fit[1]*ploty + right_fit[2]\n",
    "\n",
    "# Plot up the fake data\n",
    "mark_size = 3\n",
    "plt.plot(leftx, ploty, 'o', color='red', markersize=mark_size)\n",
    "plt.plot(rightx, ploty, 'o', color='blue', markersize=mark_size)\n",
    "plt.xlim(0, 1280)\n",
    "plt.ylim(0, 720)\n",
    "plt.plot(left_fitx, ploty, color='green', linewidth=3)\n",
    "plt.plot(right_fitx, ploty, color='green', linewidth=3)\n",
    "plt.gca().invert_yaxis() # to visualize as we do the images\n",
    "plt.show()"
   ]
  },
  {
   "cell_type": "code",
   "execution_count": null,
   "metadata": {},
   "outputs": [],
   "source": [
    "left_fit"
   ]
  },
  {
   "cell_type": "code",
   "execution_count": null,
   "metadata": {},
   "outputs": [],
   "source": [
    "leftx.shape"
   ]
  },
  {
   "cell_type": "code",
   "execution_count": null,
   "metadata": {},
   "outputs": [],
   "source": [
    "# Define y-value where we want radius of curvature\n",
    "# I'll choose the maximum y-value, corresponding to the bottom of the image\n",
    "y_eval = np.max(ploty)\n",
    "left_curverad = ((1 + (2*left_fit[0]*y_eval + left_fit[1])**2)**1.5) / np.absolute(2*left_fit[0])\n",
    "right_curverad = ((1 + (2*right_fit[0]*y_eval + right_fit[1])**2)**1.5) / np.absolute(2*right_fit[0])\n",
    "print(left_curverad, right_curverad)"
   ]
  },
  {
   "cell_type": "code",
   "execution_count": null,
   "metadata": {},
   "outputs": [],
   "source": [
    "# Define conversions in x and y from pixels space to meters\n",
    "ym_per_pix = 30/720 # meters per pixel in y dimension\n",
    "xm_per_pix = 3.7/700 # meters per pixel in x dimension\n",
    "\n",
    "# Fit new polynomials to x,y in world space\n",
    "left_fit_cr = np.polyfit(ploty*ym_per_pix, leftx*xm_per_pix, 2)\n",
    "right_fit_cr = np.polyfit(ploty*ym_per_pix, rightx*xm_per_pix, 2)\n",
    "# Calculate the new radii of curvature\n",
    "left_curverad = ((1 + (2*left_fit_cr[0]*y_eval*ym_per_pix + left_fit_cr[1])**2)**1.5) / np.absolute(2*left_fit_cr[0])\n",
    "right_curverad = ((1 + (2*right_fit_cr[0]*y_eval*ym_per_pix + right_fit_cr[1])**2)**1.5) / np.absolute(2*right_fit_cr[0])\n",
    "# Now our radius of curvature is in meters\n",
    "print(left_curverad, 'm', right_curverad, 'm')\n",
    "# Example values: 632.1 m    626.2 m"
   ]
  },
  {
   "cell_type": "code",
   "execution_count": null,
   "metadata": {},
   "outputs": [],
   "source": [
    "# Create an image to draw the lines on\n",
    "warp_zero = np.zeros_like(warped).astype(np.uint8)\n",
    "color_warp = np.dstack((warp_zero, warp_zero, warp_zero))\n",
    "\n",
    "# Recast the x and y points into usable format for cv2.fillPoly()\n",
    "pts_left = np.array([np.transpose(np.vstack([left_fitx, ploty]))])\n",
    "pts_right = np.array([np.flipud(np.transpose(np.vstack([right_fitx, ploty])))])\n",
    "pts = np.hstack((pts_left, pts_right))\n",
    "\n",
    "# Draw the lane onto the warped blank image\n",
    "cv2.fillPoly(color_warp, np.int_([pts]), (0,255, 0))\n",
    "\n",
    "# Warp the blank back to original image space using inverse perspective matrix (Minv)\n",
    "newwarp = cv2.warpPerspective(color_warp, Minv, (test_image.shape[1], test_image.shape[0])) \n",
    "# Combine the result with the original image\n",
    "result = cv2.addWeighted(undst, 1, newwarp, 0.3, 0)\n",
    "plt.imshow(color_warp)\n",
    "plt.show()"
   ]
  },
  {
   "cell_type": "code",
   "execution_count": null,
   "metadata": {},
   "outputs": [],
   "source": [
    "# Define a class to receive the characteristics of each line detection\n",
    "class Line():\n",
    "    def __init__(self):\n",
    "        # was the line detected in the last iteration?\n",
    "        self.detected = False  \n",
    "        # x values of the last n fits of the line\n",
    "        self.recent_xfitted = [] \n",
    "        #average x values of the fitted line over the last n iterations\n",
    "        self.bestx = None     \n",
    "        #polynomial coefficients averaged over the last n iterations\n",
    "        self.best_fit = None  \n",
    "        #polynomial coefficients for the most recent fit\n",
    "        self.current_fit = [np.array([False])]  \n",
    "        #radius of curvature of the line in some units\n",
    "        self.radius_of_curvature = None \n",
    "        #distance in meters of vehicle center from the line\n",
    "        self.line_base_pos = None \n",
    "        #difference in fit coefficients between last and new fits\n",
    "        self.diffs = np.array([0,0,0], dtype='float') \n",
    "        #x values for detected line pixels\n",
    "        self.allx = None  \n",
    "        #y values for detected line pixels\n",
    "        self.ally = None"
   ]
  }
 ],
 "metadata": {
  "kernelspec": {
   "display_name": "Python 3",
   "language": "python",
   "name": "python3"
  },
  "language_info": {
   "codemirror_mode": {
    "name": "ipython",
    "version": 3
   },
   "file_extension": ".py",
   "mimetype": "text/x-python",
   "name": "python",
   "nbconvert_exporter": "python",
   "pygments_lexer": "ipython3",
   "version": "3.5.2"
  },
  "widgets": {
   "state": {},
   "version": "1.1.2"
  }
 },
 "nbformat": 4,
 "nbformat_minor": 2
}
